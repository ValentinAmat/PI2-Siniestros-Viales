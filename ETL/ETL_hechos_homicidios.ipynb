{
 "cells": [
  {
   "cell_type": "code",
   "execution_count": 3,
   "metadata": {},
   "outputs": [],
   "source": [
    "import pandas as pd"
   ]
  },
  {
   "cell_type": "markdown",
   "metadata": {},
   "source": [
    "<h1>ETL</h1>"
   ]
  },
  {
   "cell_type": "markdown",
   "metadata": {},
   "source": [
    "<h3>Tabla \"hechos\"</h3>"
   ]
  },
  {
   "cell_type": "code",
   "execution_count": 4,
   "metadata": {},
   "outputs": [
    {
     "data": {
      "text/html": [
       "<div>\n",
       "<style scoped>\n",
       "    .dataframe tbody tr th:only-of-type {\n",
       "        vertical-align: middle;\n",
       "    }\n",
       "\n",
       "    .dataframe tbody tr th {\n",
       "        vertical-align: top;\n",
       "    }\n",
       "\n",
       "    .dataframe thead th {\n",
       "        text-align: right;\n",
       "    }\n",
       "</style>\n",
       "<table border=\"1\" class=\"dataframe\">\n",
       "  <thead>\n",
       "    <tr style=\"text-align: right;\">\n",
       "      <th></th>\n",
       "      <th>ID</th>\n",
       "      <th>N_VICTIMAS</th>\n",
       "      <th>FECHA</th>\n",
       "      <th>AAAA</th>\n",
       "      <th>MM</th>\n",
       "      <th>DD</th>\n",
       "      <th>HORA</th>\n",
       "      <th>HH</th>\n",
       "      <th>LUGAR_DEL_HECHO</th>\n",
       "      <th>TIPO_DE_CALLE</th>\n",
       "      <th>...</th>\n",
       "      <th>Altura</th>\n",
       "      <th>Cruce</th>\n",
       "      <th>Dirección Normalizada</th>\n",
       "      <th>COMUNA</th>\n",
       "      <th>XY (CABA)</th>\n",
       "      <th>pos x</th>\n",
       "      <th>pos y</th>\n",
       "      <th>PARTICIPANTES</th>\n",
       "      <th>VICTIMA</th>\n",
       "      <th>ACUSADO</th>\n",
       "    </tr>\n",
       "  </thead>\n",
       "  <tbody>\n",
       "    <tr>\n",
       "      <th>0</th>\n",
       "      <td>2016-0001</td>\n",
       "      <td>1</td>\n",
       "      <td>2016-01-01</td>\n",
       "      <td>2016</td>\n",
       "      <td>1</td>\n",
       "      <td>1</td>\n",
       "      <td>04:00:00</td>\n",
       "      <td>4</td>\n",
       "      <td>AV PIEDRA BUENA Y AV FERNANDEZ DE LA CRUZ</td>\n",
       "      <td>AVENIDA</td>\n",
       "      <td>...</td>\n",
       "      <td>NaN</td>\n",
       "      <td>FERNANDEZ DE LA CRUZ, F., GRAL. AV.</td>\n",
       "      <td>PIEDRA BUENA AV. y FERNANDEZ DE LA CRUZ, F., G...</td>\n",
       "      <td>8</td>\n",
       "      <td>Point (98896.78238426 93532.43437792)</td>\n",
       "      <td>-58.47533969</td>\n",
       "      <td>-34.68757022</td>\n",
       "      <td>MOTO-AUTO</td>\n",
       "      <td>MOTO</td>\n",
       "      <td>AUTO</td>\n",
       "    </tr>\n",
       "    <tr>\n",
       "      <th>1</th>\n",
       "      <td>2016-0002</td>\n",
       "      <td>1</td>\n",
       "      <td>2016-01-02</td>\n",
       "      <td>2016</td>\n",
       "      <td>1</td>\n",
       "      <td>2</td>\n",
       "      <td>01:15:00</td>\n",
       "      <td>1</td>\n",
       "      <td>AV GRAL PAZ  Y AV DE LOS CORRALES</td>\n",
       "      <td>GRAL PAZ</td>\n",
       "      <td>...</td>\n",
       "      <td>NaN</td>\n",
       "      <td>DE LOS CORRALES AV.</td>\n",
       "      <td>PAZ, GRAL. AV. y DE LOS CORRALES AV.</td>\n",
       "      <td>9</td>\n",
       "      <td>Point (95832.05571093 95505.41641999)</td>\n",
       "      <td>-58.50877521</td>\n",
       "      <td>-34.66977709</td>\n",
       "      <td>AUTO-PASAJEROS</td>\n",
       "      <td>AUTO</td>\n",
       "      <td>PASAJEROS</td>\n",
       "    </tr>\n",
       "    <tr>\n",
       "      <th>2</th>\n",
       "      <td>2016-0003</td>\n",
       "      <td>1</td>\n",
       "      <td>2016-01-03</td>\n",
       "      <td>2016</td>\n",
       "      <td>1</td>\n",
       "      <td>3</td>\n",
       "      <td>07:00:00</td>\n",
       "      <td>7</td>\n",
       "      <td>AV ENTRE RIOS 2034</td>\n",
       "      <td>AVENIDA</td>\n",
       "      <td>...</td>\n",
       "      <td>2034.0</td>\n",
       "      <td>NaN</td>\n",
       "      <td>ENTRE RIOS AV. 2034</td>\n",
       "      <td>1</td>\n",
       "      <td>Point (106684.29090040 99706.57687843)</td>\n",
       "      <td>-58.39040293</td>\n",
       "      <td>-34.63189362</td>\n",
       "      <td>MOTO-AUTO</td>\n",
       "      <td>MOTO</td>\n",
       "      <td>AUTO</td>\n",
       "    </tr>\n",
       "  </tbody>\n",
       "</table>\n",
       "<p>3 rows × 21 columns</p>\n",
       "</div>"
      ],
      "text/plain": [
       "          ID  N_VICTIMAS      FECHA  AAAA  MM  DD      HORA HH  \\\n",
       "0  2016-0001           1 2016-01-01  2016   1   1  04:00:00  4   \n",
       "1  2016-0002           1 2016-01-02  2016   1   2  01:15:00  1   \n",
       "2  2016-0003           1 2016-01-03  2016   1   3  07:00:00  7   \n",
       "\n",
       "                             LUGAR_DEL_HECHO TIPO_DE_CALLE  ...  Altura  \\\n",
       "0  AV PIEDRA BUENA Y AV FERNANDEZ DE LA CRUZ       AVENIDA  ...     NaN   \n",
       "1          AV GRAL PAZ  Y AV DE LOS CORRALES      GRAL PAZ  ...     NaN   \n",
       "2                         AV ENTRE RIOS 2034       AVENIDA  ...  2034.0   \n",
       "\n",
       "                                 Cruce  \\\n",
       "0  FERNANDEZ DE LA CRUZ, F., GRAL. AV.   \n",
       "1                  DE LOS CORRALES AV.   \n",
       "2                                  NaN   \n",
       "\n",
       "                               Dirección Normalizada COMUNA  \\\n",
       "0  PIEDRA BUENA AV. y FERNANDEZ DE LA CRUZ, F., G...      8   \n",
       "1               PAZ, GRAL. AV. y DE LOS CORRALES AV.      9   \n",
       "2                                ENTRE RIOS AV. 2034      1   \n",
       "\n",
       "                                XY (CABA)         pos x         pos y  \\\n",
       "0   Point (98896.78238426 93532.43437792)  -58.47533969  -34.68757022   \n",
       "1   Point (95832.05571093 95505.41641999)  -58.50877521  -34.66977709   \n",
       "2  Point (106684.29090040 99706.57687843)  -58.39040293  -34.63189362   \n",
       "\n",
       "    PARTICIPANTES VICTIMA    ACUSADO  \n",
       "0       MOTO-AUTO    MOTO       AUTO  \n",
       "1  AUTO-PASAJEROS    AUTO  PASAJEROS  \n",
       "2       MOTO-AUTO    MOTO       AUTO  \n",
       "\n",
       "[3 rows x 21 columns]"
      ]
     },
     "execution_count": 4,
     "metadata": {},
     "output_type": "execute_result"
    }
   ],
   "source": [
    "# Cargamos la tabla:\n",
    "hechos_df = pd.read_excel(r\"../Datasets/homicidios.xlsx\", sheet_name=\"HECHOS\")\n",
    "hechos_df.head(3)"
   ]
  },
  {
   "cell_type": "code",
   "execution_count": 5,
   "metadata": {},
   "outputs": [
    {
     "data": {
      "text/plain": [
       "ID                               object\n",
       "N_VICTIMAS                        int64\n",
       "FECHA                    datetime64[ns]\n",
       "AAAA                              int64\n",
       "MM                                int64\n",
       "DD                                int64\n",
       "HORA                             object\n",
       "HH                               object\n",
       "LUGAR_DEL_HECHO                  object\n",
       "TIPO_DE_CALLE                    object\n",
       "Calle                            object\n",
       "Altura                          float64\n",
       "Cruce                            object\n",
       "Dirección Normalizada            object\n",
       "COMUNA                            int64\n",
       "XY (CABA)                        object\n",
       "pos x                            object\n",
       "pos y                            object\n",
       "PARTICIPANTES                    object\n",
       "VICTIMA                          object\n",
       "ACUSADO                          object\n",
       "dtype: object"
      ]
     },
     "execution_count": 5,
     "metadata": {},
     "output_type": "execute_result"
    }
   ],
   "source": [
    "# Revisamos sus columnas:\n",
    "hechos_df.dtypes"
   ]
  },
  {
   "cell_type": "code",
   "execution_count": 6,
   "metadata": {},
   "outputs": [
    {
     "data": {
      "text/plain": [
       "ID                         object\n",
       "N_VICTIMAS                  int64\n",
       "FECHA              datetime64[ns]\n",
       "AAAA                        int64\n",
       "MM                          int64\n",
       "DD                          int64\n",
       "HH                         object\n",
       "LUGAR_DEL_HECHO            object\n",
       "TIPO_DE_CALLE              object\n",
       "Calle                      object\n",
       "Cruce                      object\n",
       "pos x                      object\n",
       "pos y                      object\n",
       "VICTIMA                    object\n",
       "ACUSADO                    object\n",
       "dtype: object"
      ]
     },
     "execution_count": 6,
     "metadata": {},
     "output_type": "execute_result"
    }
   ],
   "source": [
    "# Eliminamos las columnas que no utilizaremos:\n",
    "hechos_df = hechos_df.drop([\"HORA\", \"Altura\", \"Dirección Normalizada\", \"COMUNA\", \"XY (CABA)\", \"PARTICIPANTES\"], axis=1)\n",
    "hechos_df.dtypes"
   ]
  },
  {
   "cell_type": "code",
   "execution_count": 7,
   "metadata": {},
   "outputs": [
    {
     "data": {
      "text/plain": [
       "False"
      ]
     },
     "execution_count": 7,
     "metadata": {},
     "output_type": "execute_result"
    }
   ],
   "source": [
    "# Revisamos registros duplicados:\n",
    "hechos_df.duplicated().any()"
   ]
  },
  {
   "cell_type": "code",
   "execution_count": 8,
   "metadata": {},
   "outputs": [
    {
     "data": {
      "text/plain": [
       "ID                   0\n",
       "N_VICTIMAS           0\n",
       "FECHA                0\n",
       "AAAA                 0\n",
       "MM                   0\n",
       "DD                   0\n",
       "HH                   0\n",
       "LUGAR_DEL_HECHO      0\n",
       "TIPO_DE_CALLE        0\n",
       "Calle                1\n",
       "Cruce              171\n",
       "pos x                0\n",
       "pos y                0\n",
       "VICTIMA              0\n",
       "ACUSADO              0\n",
       "dtype: int64"
      ]
     },
     "execution_count": 8,
     "metadata": {},
     "output_type": "execute_result"
    }
   ],
   "source": [
    "# Revisamos valores nulos:\n",
    "hechos_df.isna().sum()"
   ]
  },
  {
   "cell_type": "code",
   "execution_count": 9,
   "metadata": {},
   "outputs": [
    {
     "data": {
      "text/plain": [
       "array([2016, 2017, 2018, 2019, 2020, 2021], dtype=int64)"
      ]
     },
     "execution_count": 9,
     "metadata": {},
     "output_type": "execute_result"
    }
   ],
   "source": [
    "# Revisamos los años presentes en el DataFrame:\n",
    "hechos_df[\"AAAA\"].unique()"
   ]
  },
  {
   "cell_type": "code",
   "execution_count": 10,
   "metadata": {},
   "outputs": [
    {
     "data": {
      "text/plain": [
       "Int64Dtype()"
      ]
     },
     "execution_count": 10,
     "metadata": {},
     "output_type": "execute_result"
    }
   ],
   "source": [
    "# Convertimos la columna \"HH\" (hora) en tipo \"Int64\":\n",
    "hechos_df[\"HH\"] = hechos_df[\"HH\"].apply(pd.to_numeric, errors=\"coerce\", downcast=\"integer\").astype(\"Int64\")\n",
    "hechos_df[\"HH\"].dtypes"
   ]
  },
  {
   "cell_type": "code",
   "execution_count": 11,
   "metadata": {},
   "outputs": [
    {
     "data": {
      "text/plain": [
       "pos x    float64\n",
       "pos y    float64\n",
       "dtype: object"
      ]
     },
     "execution_count": 11,
     "metadata": {},
     "output_type": "execute_result"
    }
   ],
   "source": [
    "# Convertimos las columna \"pos x\" y \"pos y\" (coordenadas) en tipo \"float\":\n",
    "hechos_df[\"pos x\"] = pd.to_numeric(hechos_df[\"pos x\"], errors=\"coerce\").astype(float)\n",
    "hechos_df[\"pos y\"] = pd.to_numeric(hechos_df[\"pos y\"], errors=\"coerce\").astype(float)\n",
    "hechos_df[[\"pos x\", \"pos y\"]].dtypes"
   ]
  },
  {
   "cell_type": "code",
   "execution_count": 12,
   "metadata": {},
   "outputs": [],
   "source": [
    "# Guardamos el archivo limpio:\n",
    "hechos_df.to_csv(r\"../Archivos producidos/hechos_homicidios.csv\", index=False)"
   ]
  }
 ],
 "metadata": {
  "kernelspec": {
   "display_name": "Python 3",
   "language": "python",
   "name": "python3"
  },
  "language_info": {
   "codemirror_mode": {
    "name": "ipython",
    "version": 3
   },
   "file_extension": ".py",
   "mimetype": "text/x-python",
   "name": "python",
   "nbconvert_exporter": "python",
   "pygments_lexer": "ipython3",
   "version": "3.12.1"
  }
 },
 "nbformat": 4,
 "nbformat_minor": 2
}
